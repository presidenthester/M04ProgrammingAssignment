{
 "cells": [
  {
   "cell_type": "code",
   "execution_count": null,
   "id": "bd913f53",
   "metadata": {},
   "outputs": [],
   "source": [
    "import socket\n",
    "import datetime\n",
    "\n",
    "socketServer = socket.socket(socket.AF_INET, socket.SOCK_STREAM)\n",
    "host = socket.gethostname()\n",
    "port = 12345\n",
    "socketServer.bind((host, port))\n",
    "socketServer.listen(1)\n",
    "\n",
    "while True:\n",
    "    client_scoket, addr = socketServer.accept()\n",
    "    data = client_socket.recv(1024).decode()\n",
    "    \n",
    "    if data == \"time\":\n",
    "        now = datetime.datetime.now()\n",
    "        current_time = now.isoformat()\n",
    "        client_socket.send(current_time.encode())\n",
    "    \n",
    "    client_socket.close()"
   ]
  }
 ],
 "metadata": {
  "kernelspec": {
   "display_name": "Python 3 (ipykernel)",
   "language": "python",
   "name": "python3"
  },
  "language_info": {
   "codemirror_mode": {
    "name": "ipython",
    "version": 3
   },
   "file_extension": ".py",
   "mimetype": "text/x-python",
   "name": "python",
   "nbconvert_exporter": "python",
   "pygments_lexer": "ipython3",
   "version": "3.10.9"
  }
 },
 "nbformat": 4,
 "nbformat_minor": 5
}
