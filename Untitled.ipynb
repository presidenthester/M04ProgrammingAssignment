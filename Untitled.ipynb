{
 "cells": [
  {
   "cell_type": "code",
   "execution_count": 1,
   "id": "69f0eb35",
   "metadata": {},
   "outputs": [
    {
     "name": "stdout",
     "output_type": "stream",
     "text": [
      "2023-04-13 15:10:50,336 INFO sqlalchemy.engine.Engine BEGIN (implicit)\n",
      "2023-04-13 15:10:50,338 INFO sqlalchemy.engine.Engine PRAGMA main.table_info(\"book\")\n",
      "2023-04-13 15:10:50,339 INFO sqlalchemy.engine.Engine [raw sql] ()\n",
      "2023-04-13 15:10:50,340 INFO sqlalchemy.engine.Engine PRAGMA temp.table_info(\"book\")\n",
      "2023-04-13 15:10:50,340 INFO sqlalchemy.engine.Engine [raw sql] ()\n",
      "2023-04-13 15:10:50,341 INFO sqlalchemy.engine.Engine \n",
      "CREATE TABLE book (\n",
      "\tid INTEGER NOT NULL, \n",
      "\ttitle VARCHAR, \n",
      "\tauthor VARCHAR, \n",
      "\tyear INTEGER, \n",
      "\tPRIMARY KEY (id)\n",
      ")\n",
      "\n",
      "\n",
      "2023-04-13 15:10:50,341 INFO sqlalchemy.engine.Engine [no key 0.00039s] ()\n",
      "2023-04-13 15:10:50,347 INFO sqlalchemy.engine.Engine COMMIT\n",
      "2023-04-13 15:10:50,350 INFO sqlalchemy.engine.Engine BEGIN (implicit)\n",
      "2023-04-13 15:10:50,353 INFO sqlalchemy.engine.Engine SELECT book.id AS book_id, book.title AS book_title, book.author AS book_author, book.year AS book_year \n",
      "FROM book ORDER BY book.title ASC\n",
      "2023-04-13 15:10:50,353 INFO sqlalchemy.engine.Engine [generated in 0.00071s] ()\n"
     ]
    }
   ],
   "source": [
    "# 16.8\n",
    "\n",
    "from sqlalchemy import create_engine, Column, Integer, String\n",
    "from sqlalchemy.orm import sessionmaker\n",
    "from sqlalchemy.ext.declarative import declarative_base\n",
    "\n",
    "\n",
    "Base = declarative_base()\n",
    "\n",
    "\n",
    "class Book(Base):\n",
    "    __tablename__ = 'book'\n",
    "    id = Column(Integer, primary_key=True)\n",
    "    title = Column(String)\n",
    "    author = Column(String)\n",
    "    year = Column(Integer)\n",
    "\n",
    "\n",
    "engine = create_engine('sqlite:///books.db', echo=True)\n",
    "\n",
    "\n",
    "Base.metadata.create_all(engine)\n",
    "\n",
    "Session = sessionmaker(bind=engine)\n",
    "session = Session()\n",
    "\n",
    "\n",
    "books = session.query(Book).order_by(Book.title.asc()).all()\n",
    "\n",
    "\n",
    "for book in books:\n",
    "    print(book.title)\n"
   ]
  }
 ],
 "metadata": {
  "kernelspec": {
   "display_name": "Python 3 (ipykernel)",
   "language": "python",
   "name": "python3"
  },
  "language_info": {
   "codemirror_mode": {
    "name": "ipython",
    "version": 3
   },
   "file_extension": ".py",
   "mimetype": "text/x-python",
   "name": "python",
   "nbconvert_exporter": "python",
   "pygments_lexer": "ipython3",
   "version": "3.10.9"
  }
 },
 "nbformat": 4,
 "nbformat_minor": 5
}
