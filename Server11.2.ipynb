{
 "cells": [
  {
   "cell_type": "code",
   "execution_count": null,
   "id": "e5f033ed",
   "metadata": {},
   "outputs": [],
   "source": [
    "import zmq\n",
    "import datetime\n",
    "\n",
    "\n",
    "context = zmq.Context()\n",
    "server_socket = context.socket(zmq.REP)\n",
    "\n",
    "\n",
    "server_socket.bind(\"tcp://*:5555\")\n",
    "\n",
    "while True:\n",
    "    \n",
    "    data = server_socket.recv_string()\n",
    "    \n",
    "    if data == \"time\":\n",
    "     \n",
    "        now = datetime.datetime.now()\n",
    "        \n",
    "       \n",
    "        current_time = now.isoformat()\n",
    "        \n",
    "       \n",
    "        server_socket.send_string(current_time)\n",
    "        "
   ]
  }
 ],
 "metadata": {
  "kernelspec": {
   "display_name": "Python 3 (ipykernel)",
   "language": "python",
   "name": "python3"
  },
  "language_info": {
   "codemirror_mode": {
    "name": "ipython",
    "version": 3
   },
   "file_extension": ".py",
   "mimetype": "text/x-python",
   "name": "python",
   "nbconvert_exporter": "python",
   "pygments_lexer": "ipython3",
   "version": "3.10.9"
  }
 },
 "nbformat": 4,
 "nbformat_minor": 5
}
