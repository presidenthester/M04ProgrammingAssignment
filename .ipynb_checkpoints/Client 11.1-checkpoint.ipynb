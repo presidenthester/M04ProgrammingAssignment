{
 "cells": [
  {
   "cell_type": "code",
   "execution_count": null,
   "id": "22fd8eca",
   "metadata": {},
   "outputs": [],
   "source": [
    "import socket\n",
    "\n",
    "\n",
    "client_socket = socket.socket(socket.AF_INET, socket.SOCK_STREAM)\n",
    "\n",
    "\n",
    "host = socket.gethostname()\n",
    "\n",
    "\n",
    "port = 12345\n",
    "\n",
    "\n",
    "client_socket.connect((host, port))\n",
    "\n",
    "\n",
    "client_socket.send(\"time\".encode())\n",
    "\n",
    "\n",
    "data = client_socket.recv(1024).decode()\n",
    "\n",
    "\n",
    "print(\"Current time: \", data)\n",
    "\n",
    "\n",
    "client_socket.close()"
   ]
  }
 ],
 "metadata": {
  "kernelspec": {
   "display_name": "Python 3 (ipykernel)",
   "language": "python",
   "name": "python3"
  },
  "language_info": {
   "codemirror_mode": {
    "name": "ipython",
    "version": 3
   },
   "file_extension": ".py",
   "mimetype": "text/x-python",
   "name": "python",
   "nbconvert_exporter": "python",
   "pygments_lexer": "ipython3",
   "version": "3.10.9"
  }
 },
 "nbformat": 4,
 "nbformat_minor": 5
}
